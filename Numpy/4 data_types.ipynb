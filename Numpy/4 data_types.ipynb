{
 "cells": [
  {
   "cell_type": "markdown",
   "id": "2a7ce287",
   "metadata": {},
   "source": [
    "# Data Type"
   ]
  },
  {
   "cell_type": "code",
   "execution_count": 2,
   "id": "94db4549",
   "metadata": {},
   "outputs": [
    {
     "name": "stdout",
     "output_type": "stream",
     "text": [
      "Data Type  int32\n"
     ]
    }
   ],
   "source": [
    "import numpy as np\n",
    "a = np.array([1,2,3,4])\n",
    "print('Data Type ', a.dtype)"
   ]
  },
  {
   "cell_type": "code",
   "execution_count": 4,
   "id": "af29ea3a",
   "metadata": {},
   "outputs": [
    {
     "name": "stdout",
     "output_type": "stream",
     "text": [
      "Data Type  float64\n"
     ]
    }
   ],
   "source": [
    "a = np.array([1.14, 2.15, 3.148,4])\n",
    "print('Data Type ', a.dtype)"
   ]
  },
  {
   "cell_type": "code",
   "execution_count": 5,
   "id": "80d1ff9b",
   "metadata": {},
   "outputs": [
    {
     "name": "stdout",
     "output_type": "stream",
     "text": [
      "Data Type  <U1\n"
     ]
    }
   ],
   "source": [
    "a = np.array(['a','b','c'])\n",
    "print('Data Type ', a.dtype)"
   ]
  },
  {
   "cell_type": "code",
   "execution_count": 8,
   "id": "9056ef7f",
   "metadata": {},
   "outputs": [
    {
     "name": "stdout",
     "output_type": "stream",
     "text": [
      "Data Type  <U1\n"
     ]
    }
   ],
   "source": [
    "a = np.array(['a','b','c','1'])\n",
    "print('Data Type ', a.dtype)"
   ]
  },
  {
   "cell_type": "code",
   "execution_count": 7,
   "id": "f21f1333",
   "metadata": {},
   "outputs": [
    {
     "name": "stdout",
     "output_type": "stream",
     "text": [
      "Data Type  <U3\n"
     ]
    }
   ],
   "source": [
    "a = np.array(['a','b','c','1','2','2.5'])\n",
    "print('Data Type ', a.dtype)"
   ]
  },
  {
   "cell_type": "code",
   "execution_count": 9,
   "id": "abfc1790",
   "metadata": {},
   "outputs": [
    {
     "name": "stdout",
     "output_type": "stream",
     "text": [
      "Data Type  <U11\n"
     ]
    }
   ],
   "source": [
    "a = np.array(['A','S','D','F',1,2,3])\n",
    "print('Data Type ', a.dtype)"
   ]
  },
  {
   "cell_type": "markdown",
   "id": "0302f591",
   "metadata": {},
   "source": [
    "# Change Datatype"
   ]
  },
  {
   "cell_type": "code",
   "execution_count": 11,
   "id": "62532b2c",
   "metadata": {},
   "outputs": [
    {
     "name": "stdout",
     "output_type": "stream",
     "text": [
      "Data Type  int32\n"
     ]
    }
   ],
   "source": [
    "a = np.array([1,2,3,4], dtype=np.int8)\n",
    "print('Data Type ', a.dtype)"
   ]
  },
  {
   "cell_type": "code",
   "execution_count": 12,
   "id": "5b74d090",
   "metadata": {
    "scrolled": true
   },
   "outputs": [
    {
     "name": "stdout",
     "output_type": "stream",
     "text": [
      "Data Type  float32\n",
      "[1. 2. 3. 4.]\n"
     ]
    }
   ],
   "source": [
    "a = np.array([1,2,3,4], dtype='f')\n",
    "print('Data Type ', a.dtype)\n",
    "print(a)"
   ]
  },
  {
   "cell_type": "code",
   "execution_count": 13,
   "id": "4ecd1f62",
   "metadata": {},
   "outputs": [
    {
     "name": "stdout",
     "output_type": "stream",
     "text": [
      "Data Type  int32\n",
      "Data Type  float32\n",
      "[1 2 3 4]\n",
      "[1. 2. 3. 4.]\n"
     ]
    }
   ],
   "source": [
    "a = np.array([1,2,3,4])\n",
    "\n",
    "b = np.float32(a)\n",
    "\n",
    "print('Data Type ', a.dtype)\n",
    "print('Data Type ', b.dtype)\n",
    "\n",
    "print(a)\n",
    "print(b)"
   ]
  },
  {
   "cell_type": "code",
   "execution_count": 14,
   "id": "1710f71a",
   "metadata": {},
   "outputs": [
    {
     "name": "stdout",
     "output_type": "stream",
     "text": [
      "Data Type  int32\n",
      "Data Type  float32\n",
      "Data Type  int32\n",
      "[1 2 3 4]\n",
      "[1. 2. 3. 4.]\n",
      "[1 2 3 4]\n"
     ]
    }
   ],
   "source": [
    "a = np.array([1,2,3,4])\n",
    "b = np.float32(a)\n",
    "c = np.int_(b)\n",
    "\n",
    "print('Data Type ', a.dtype)\n",
    "print('Data Type ', b.dtype)\n",
    "print('Data Type ', c.dtype)\n",
    "\n",
    "print(a)\n",
    "print(b)\n",
    "print(c)"
   ]
  },
  {
   "cell_type": "code",
   "execution_count": 15,
   "id": "cbd3391b",
   "metadata": {},
   "outputs": [
    {
     "name": "stdout",
     "output_type": "stream",
     "text": [
      "[1 2 3 4]\n",
      "[1. 2. 3. 4.]\n",
      "Data Type  int32\n",
      "Data Type  float64\n"
     ]
    }
   ],
   "source": [
    "a = np.array([1,2,3,4])\n",
    "b = a.astype(float)\n",
    "\n",
    "print(a)\n",
    "print(b)\n",
    "print('Data Type ', a.dtype)\n",
    "print('Data Type ', b.dtype)"
   ]
  },
  {
   "cell_type": "code",
   "execution_count": null,
   "id": "a58b3368",
   "metadata": {},
   "outputs": [],
   "source": []
  }
 ],
 "metadata": {
  "kernelspec": {
   "display_name": "Python 3 (ipykernel)",
   "language": "python",
   "name": "python3"
  },
  "language_info": {
   "codemirror_mode": {
    "name": "ipython",
    "version": 3
   },
   "file_extension": ".py",
   "mimetype": "text/x-python",
   "name": "python",
   "nbconvert_exporter": "python",
   "pygments_lexer": "ipython3",
   "version": "3.9.13"
  },
  "vscode": {
   "interpreter": {
    "hash": "5bba5f71429d1c077213d9a42e728c87f6a7d00f014014818a2aca7ac7d9fe46"
   }
  }
 },
 "nbformat": 4,
 "nbformat_minor": 5
}
