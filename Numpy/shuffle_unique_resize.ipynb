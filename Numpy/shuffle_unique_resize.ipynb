{
 "cells": [
  {
   "cell_type": "markdown",
   "id": "6634dabf",
   "metadata": {},
   "source": [
    "# Shuffle\n"
   ]
  },
  {
   "cell_type": "code",
   "execution_count": 3,
   "id": "434aa522",
   "metadata": {},
   "outputs": [
    {
     "name": "stdout",
     "output_type": "stream",
     "text": [
      "[6 4 7 2 9 3 1 5]\n"
     ]
    }
   ],
   "source": [
    "import numpy as np\n",
    "a = np.array([9,6,4,7,5,3,2,1])\n",
    "np.random.shuffle(a)\n",
    "print(a)"
   ]
  },
  {
   "cell_type": "markdown",
   "id": "9d5f1317",
   "metadata": {},
   "source": [
    "# Unique"
   ]
  },
  {
   "cell_type": "code",
   "execution_count": 6,
   "id": "f8af3b8d",
   "metadata": {},
   "outputs": [
    {
     "name": "stdout",
     "output_type": "stream",
     "text": [
      "(array([1, 2, 4, 5, 6]), array([7, 2, 3, 0, 1], dtype=int64), array([1, 2, 2, 3, 2], dtype=int64))\n"
     ]
    }
   ],
   "source": [
    "a = np.array([5,6,2,4,5,6,2,1,4,5])\n",
    "b = np.unique(a, return_index=True, return_counts=True)\n",
    "print(b)"
   ]
  },
  {
   "cell_type": "markdown",
   "id": "8ceccbf2",
   "metadata": {},
   "source": [
    "# Resize"
   ]
  },
  {
   "cell_type": "code",
   "execution_count": 7,
   "id": "5cd68cfb",
   "metadata": {},
   "outputs": [
    {
     "name": "stdout",
     "output_type": "stream",
     "text": [
      "[[1 2 3]\n",
      " [4 5 6]]\n"
     ]
    }
   ],
   "source": [
    "a = np.array([1,2,3,4,5,6])\n",
    "b = np.resize(a, (2,3)) # Rows Columns\n",
    "print(b)"
   ]
  },
  {
   "cell_type": "markdown",
   "id": "7d7afad1",
   "metadata": {},
   "source": [
    "# Flatten"
   ]
  },
  {
   "cell_type": "code",
   "execution_count": 10,
   "id": "8d1eae08",
   "metadata": {},
   "outputs": [
    {
     "name": "stdout",
     "output_type": "stream",
     "text": [
      "[[1 2 3]\n",
      " [4 5 6]]\n",
      "\n",
      "Flatten : [1 4 2 5 3 6]\n",
      "Ravel : [1 2 3 4 5 6]\n"
     ]
    }
   ],
   "source": [
    "a = np.array([1,2,3,4,5,6])\n",
    "b = np.resize(a, (2,3))\n",
    "print(b)\n",
    "print()\n",
    "print('Flatten :',b.flatten(order='F'))\n",
    "print('Ravel :', np.ravel(b))"
   ]
  },
  {
   "cell_type": "code",
   "execution_count": null,
   "id": "4cfe5d35",
   "metadata": {},
   "outputs": [],
   "source": []
  }
 ],
 "metadata": {
  "kernelspec": {
   "display_name": "Python 3 (ipykernel)",
   "language": "python",
   "name": "python3"
  },
  "language_info": {
   "codemirror_mode": {
    "name": "ipython",
    "version": 3
   },
   "file_extension": ".py",
   "mimetype": "text/x-python",
   "name": "python",
   "nbconvert_exporter": "python",
   "pygments_lexer": "ipython3",
   "version": "3.9.13"
  }
 },
 "nbformat": 4,
 "nbformat_minor": 5
}
