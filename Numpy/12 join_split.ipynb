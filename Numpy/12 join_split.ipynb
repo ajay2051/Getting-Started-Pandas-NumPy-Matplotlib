{
 "cells": [
  {
   "cell_type": "markdown",
   "id": "36c4348f",
   "metadata": {},
   "source": [
    "# Join Array"
   ]
  },
  {
   "cell_type": "code",
   "execution_count": 2,
   "id": "72ca1f5c",
   "metadata": {},
   "outputs": [
    {
     "name": "stdout",
     "output_type": "stream",
     "text": [
      "[1 2 3 4 8 6 3 2]\n"
     ]
    }
   ],
   "source": [
    "import numpy as np\n",
    "a = np.array([1,2,3,4])\n",
    "b = np.array([8,6,3,2])\n",
    "c = np.concatenate((a,b))\n",
    "print(c)"
   ]
  },
  {
   "cell_type": "code",
   "execution_count": 5,
   "id": "96d09228",
   "metadata": {},
   "outputs": [
    {
     "name": "stdout",
     "output_type": "stream",
     "text": [
      "[[1 2 5 6]\n",
      " [2 6 8 9]]\n",
      "\n",
      "[[1 2]\n",
      " [2 6]\n",
      " [5 6]\n",
      " [8 9]]\n"
     ]
    }
   ],
   "source": [
    "a = np.array([[1,2],[2,6]])\n",
    "b = np.array([[5,6],[8,9]])\n",
    "c = np.concatenate((a,b), axis=1)\n",
    "d = np.concatenate((a,b), axis=0)\n",
    "print(c)\n",
    "print()\n",
    "print(d)"
   ]
  },
  {
   "cell_type": "code",
   "execution_count": 9,
   "id": "f417f26d",
   "metadata": {},
   "outputs": [
    {
     "name": "stdout",
     "output_type": "stream",
     "text": [
      "[[1 8]\n",
      " [2 6]\n",
      " [3 3]\n",
      " [4 2]]\n",
      "\n",
      "[1 2 3 4 8 6 3 2]\n",
      "\n",
      "[[1 2 3 4]\n",
      " [8 6 3 2]]\n",
      "\n",
      "[[[1 8]\n",
      "  [2 6]\n",
      "  [3 3]\n",
      "  [4 2]]]\n"
     ]
    }
   ],
   "source": [
    "a = np.array([1,2,3,4])\n",
    "b = np.array([8,6,3,2])\n",
    "c = np.stack((a,b), axis = 1)\n",
    "d = np.hstack((a,b)) #row\n",
    "e = np.vstack((a,b)) #column\n",
    "f = np.dstack((a,b)) # Height\n",
    "print(c)\n",
    "print()\n",
    "print(d)\n",
    "print()\n",
    "print(e)\n",
    "print()\n",
    "print(f)"
   ]
  },
  {
   "cell_type": "markdown",
   "id": "d0574730",
   "metadata": {},
   "source": [
    "# Split"
   ]
  },
  {
   "cell_type": "code",
   "execution_count": 10,
   "id": "7b83f600",
   "metadata": {},
   "outputs": [
    {
     "name": "stdout",
     "output_type": "stream",
     "text": [
      "[array([5, 2, 3]), array([9, 7, 4]), array([5, 6])]\n"
     ]
    }
   ],
   "source": [
    "a = np.array([5,2,3,9,7,4,5,6])\n",
    "b = np.array_split(a, 3)\n",
    "print(b)"
   ]
  },
  {
   "cell_type": "code",
   "execution_count": 12,
   "id": "a46c1b0c",
   "metadata": {},
   "outputs": [
    {
     "name": "stdout",
     "output_type": "stream",
     "text": [
      "[array([[1, 5, 6, 8]]), array([[8, 3, 6, 7]]), array([], shape=(0, 4), dtype=int32)]\n",
      "\n",
      "[array([[1, 5],\n",
      "       [8, 3]]), array([[6],\n",
      "       [6]]), array([[8],\n",
      "       [7]])]\n"
     ]
    }
   ],
   "source": [
    "a = np.array([[1,5,6,8],[8,3,6,7]])\n",
    "b = np.array_split(a, 3)\n",
    "c = np.array_split(a, 3, axis =1)\n",
    "print(b)\n",
    "print()\n",
    "print(c)"
   ]
  },
  {
   "cell_type": "code",
   "execution_count": null,
   "id": "201f4ccb",
   "metadata": {},
   "outputs": [],
   "source": []
  }
 ],
 "metadata": {
  "kernelspec": {
   "display_name": "Python 3 (ipykernel)",
   "language": "python",
   "name": "python3"
  },
  "language_info": {
   "codemirror_mode": {
    "name": "ipython",
    "version": 3
   },
   "file_extension": ".py",
   "mimetype": "text/x-python",
   "name": "python",
   "nbconvert_exporter": "python",
   "pygments_lexer": "ipython3",
   "version": "3.9.13"
  }
 },
 "nbformat": 4,
 "nbformat_minor": 5
}
