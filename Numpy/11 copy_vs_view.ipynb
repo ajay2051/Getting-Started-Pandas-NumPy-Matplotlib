{
 "cells": [
  {
   "cell_type": "markdown",
   "id": "520dc434",
   "metadata": {},
   "source": [
    "# Copy_vs_view"
   ]
  },
  {
   "cell_type": "code",
   "execution_count": 3,
   "id": "24b68b34",
   "metadata": {},
   "outputs": [
    {
     "name": "stdout",
     "output_type": "stream",
     "text": [
      "Var : [1 9 3 4]\n",
      "copy : [1 2 3 4]\n"
     ]
    }
   ],
   "source": [
    "import numpy as np\n",
    "var = np.array([1,2,3,4])\n",
    "co = var.copy()\n",
    "var[1] = 9\n",
    "print('Var :', var)\n",
    "print(\"copy :\", co)"
   ]
  },
  {
   "cell_type": "code",
   "execution_count": 4,
   "id": "11e709ed",
   "metadata": {},
   "outputs": [
    {
     "name": "stdout",
     "output_type": "stream",
     "text": [
      "Var : [1 2 8 4]\n",
      "View : [1 2 8 4]\n"
     ]
    }
   ],
   "source": [
    "var = np.array([1,2,3,4])\n",
    "view = var.view()\n",
    "var[2] = 8\n",
    "print('Var :', var)\n",
    "print('View :', view)"
   ]
  },
  {
   "cell_type": "code",
   "execution_count": null,
   "id": "e2baab99",
   "metadata": {},
   "outputs": [],
   "source": []
  }
 ],
 "metadata": {
  "kernelspec": {
   "display_name": "Python 3 (ipykernel)",
   "language": "python",
   "name": "python3"
  },
  "language_info": {
   "codemirror_mode": {
    "name": "ipython",
    "version": 3
   },
   "file_extension": ".py",
   "mimetype": "text/x-python",
   "name": "python",
   "nbconvert_exporter": "python",
   "pygments_lexer": "ipython3",
   "version": "3.9.13"
  }
 },
 "nbformat": 4,
 "nbformat_minor": 5
}
