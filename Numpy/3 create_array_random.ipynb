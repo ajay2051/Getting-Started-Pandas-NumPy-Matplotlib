{
 "cells": [
  {
   "cell_type": "markdown",
   "id": "84ad46ea",
   "metadata": {},
   "source": [
    "# Random"
   ]
  },
  {
   "cell_type": "markdown",
   "id": "3eefd632",
   "metadata": {},
   "source": [
    "# Rand()"
   ]
  },
  {
   "cell_type": "code",
   "execution_count": 2,
   "id": "e0c7e659",
   "metadata": {},
   "outputs": [
    {
     "name": "stdout",
     "output_type": "stream",
     "text": [
      "[0.68528831 0.54929678 0.32901718 0.02981758]\n"
     ]
    }
   ],
   "source": [
    "import numpy as np\n",
    "a = np.random.rand(4)\n",
    "print(a)"
   ]
  },
  {
   "cell_type": "code",
   "execution_count": 3,
   "id": "dd7ad9b6",
   "metadata": {},
   "outputs": [
    {
     "name": "stdout",
     "output_type": "stream",
     "text": [
      "[[0.0839817  0.13242909 0.28053135]\n",
      " [0.17638208 0.86506479 0.37868349]\n",
      " [0.43363434 0.49248327 0.19954741]]\n"
     ]
    }
   ],
   "source": [
    "# rand function is used to generate random numbers between 0 to 1\n",
    "\n",
    "a = np.random.rand(3,3)\n",
    "print(a)"
   ]
  },
  {
   "cell_type": "markdown",
   "id": "1dca2df9",
   "metadata": {},
   "source": [
    "# Randn"
   ]
  },
  {
   "cell_type": "code",
   "execution_count": 4,
   "id": "044fb5d1",
   "metadata": {},
   "outputs": [
    {
     "name": "stdout",
     "output_type": "stream",
     "text": [
      "[ 1.27911743 -0.57616453]\n"
     ]
    }
   ],
   "source": [
    "# randn is used to generate a random value close to zero. May Return positive or negative numbers.\n",
    "\n",
    "a = np.random.randn(2)\n",
    "print(a)"
   ]
  },
  {
   "cell_type": "code",
   "execution_count": 5,
   "id": "9b0d6e04",
   "metadata": {},
   "outputs": [
    {
     "name": "stdout",
     "output_type": "stream",
     "text": [
      "[[ 0.2291551   0.26053716]\n",
      " [ 0.15281392 -0.95335507]]\n"
     ]
    }
   ],
   "source": [
    "a = np.random.randn(2,2)\n",
    "print(a)"
   ]
  },
  {
   "cell_type": "markdown",
   "id": "a2e06870",
   "metadata": {},
   "source": [
    "# Ranf"
   ]
  },
  {
   "cell_type": "code",
   "execution_count": 7,
   "id": "664d2fc7",
   "metadata": {},
   "outputs": [
    {
     "name": "stdout",
     "output_type": "stream",
     "text": [
      "[0.47631922 0.77202415 0.98675384 0.29431276]\n"
     ]
    }
   ],
   "source": [
    "# randf returns an array of specified shape and fills it with random floats in interval [0.0, 1.0]\n",
    "\n",
    "a = np.random.ranf(4)\n",
    "print(a)"
   ]
  },
  {
   "cell_type": "markdown",
   "id": "52d27aa1",
   "metadata": {},
   "source": [
    "# Randint"
   ]
  },
  {
   "cell_type": "code",
   "execution_count": 9,
   "id": "cba3c69f",
   "metadata": {},
   "outputs": [
    {
     "name": "stdout",
     "output_type": "stream",
     "text": [
      "[1 2 1 2 3 1]\n"
     ]
    }
   ],
   "source": [
    "# randint function is used to generate random number within a given range\n",
    "\n",
    "a = np.random.randint(1,5,6)\n",
    "print(a)"
   ]
  },
  {
   "cell_type": "code",
   "execution_count": null,
   "id": "e17f4464",
   "metadata": {},
   "outputs": [],
   "source": []
  }
 ],
 "metadata": {
  "kernelspec": {
   "display_name": "Python 3 (ipykernel)",
   "language": "python",
   "name": "python3"
  },
  "language_info": {
   "codemirror_mode": {
    "name": "ipython",
    "version": 3
   },
   "file_extension": ".py",
   "mimetype": "text/x-python",
   "name": "python",
   "nbconvert_exporter": "python",
   "pygments_lexer": "ipython3",
   "version": "3.9.13"
  }
 },
 "nbformat": 4,
 "nbformat_minor": 5
}
