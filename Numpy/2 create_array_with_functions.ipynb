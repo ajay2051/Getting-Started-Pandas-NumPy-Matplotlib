{
 "cells": [
  {
   "cell_type": "markdown",
   "id": "86d60686",
   "metadata": {},
   "source": [
    "# Create Array with Functions"
   ]
  },
  {
   "cell_type": "markdown",
   "id": "4a2fd0ba",
   "metadata": {},
   "source": [
    "# Zeros"
   ]
  },
  {
   "cell_type": "code",
   "execution_count": 1,
   "id": "b8d538a4",
   "metadata": {},
   "outputs": [
    {
     "name": "stdout",
     "output_type": "stream",
     "text": [
      "[0. 0.]\n",
      "\n",
      "[[0. 0. 0. 0.]\n",
      " [0. 0. 0. 0.]\n",
      " [0. 0. 0. 0.]]\n"
     ]
    }
   ],
   "source": [
    "import numpy as np\n",
    "arr_zero = np.zeros(2)\n",
    "arr_zero1 = np.zeros((3,4))\n",
    "print(arr_zero)\n",
    "print()\n",
    "print(arr_zero1)"
   ]
  },
  {
   "cell_type": "markdown",
   "id": "689a001e",
   "metadata": {},
   "source": [
    "# Ones"
   ]
  },
  {
   "cell_type": "code",
   "execution_count": 2,
   "id": "c9072fd8",
   "metadata": {},
   "outputs": [
    {
     "name": "stdout",
     "output_type": "stream",
     "text": [
      "[1.]\n",
      "[[1. 1.]]\n"
     ]
    }
   ],
   "source": [
    "arr_ones = np.ones(1)\n",
    "arr_ones_mult = np.ones((1,2))\n",
    "print(arr_ones)\n",
    "print(arr_ones_mult)"
   ]
  },
  {
   "cell_type": "markdown",
   "id": "aa0ecf0c",
   "metadata": {},
   "source": [
    "# Empty"
   ]
  },
  {
   "cell_type": "code",
   "execution_count": 3,
   "id": "f35cdaa0",
   "metadata": {},
   "outputs": [
    {
     "name": "stdout",
     "output_type": "stream",
     "text": [
      "[0. 0. 0. 0. 0. 0.]\n"
     ]
    }
   ],
   "source": [
    "arr_empty = np.empty(6)\n",
    "print(arr_empty)"
   ]
  },
  {
   "cell_type": "markdown",
   "id": "84cf7a65",
   "metadata": {},
   "source": [
    "# Range"
   ]
  },
  {
   "cell_type": "code",
   "execution_count": 4,
   "id": "e829016b",
   "metadata": {},
   "outputs": [
    {
     "name": "stdout",
     "output_type": "stream",
     "text": [
      "[1 2 3 4]\n"
     ]
    }
   ],
   "source": [
    "arr_range = np.arange(1,5)\n",
    "print(arr_range)"
   ]
  },
  {
   "cell_type": "markdown",
   "id": "f380cf90",
   "metadata": {},
   "source": [
    "# Diagonal"
   ]
  },
  {
   "cell_type": "code",
   "execution_count": 5,
   "id": "41ab38a2",
   "metadata": {},
   "outputs": [
    {
     "name": "stdout",
     "output_type": "stream",
     "text": [
      "[[1. 0. 0.]\n",
      " [0. 1. 0.]\n",
      " [0. 0. 1.]]\n"
     ]
    }
   ],
   "source": [
    "arr_diag = np.eye(3)\n",
    "print(arr_diag)"
   ]
  },
  {
   "cell_type": "code",
   "execution_count": 6,
   "id": "efc84889",
   "metadata": {},
   "outputs": [
    {
     "name": "stdout",
     "output_type": "stream",
     "text": [
      "[[1. 0. 0. 0. 0.]\n",
      " [0. 1. 0. 0. 0.]\n",
      " [0. 0. 1. 0. 0.]]\n"
     ]
    }
   ],
   "source": [
    "arr_diag = np.eye(3,5)\n",
    "print(arr_diag)"
   ]
  },
  {
   "cell_type": "markdown",
   "id": "39584f14",
   "metadata": {},
   "source": [
    "# Linespace"
   ]
  },
  {
   "cell_type": "code",
   "execution_count": 7,
   "id": "fc91481d",
   "metadata": {},
   "outputs": [
    {
     "name": "stdout",
     "output_type": "stream",
     "text": [
      "[ 0.  5. 10. 15. 20.]\n"
     ]
    }
   ],
   "source": [
    "arr_line = np.linspace(0,20, num=5)\n",
    "print(arr_line)"
   ]
  },
  {
   "cell_type": "code",
   "execution_count": null,
   "id": "f49c9e62",
   "metadata": {},
   "outputs": [],
   "source": []
  }
 ],
 "metadata": {
  "kernelspec": {
   "display_name": "Python 3 (ipykernel)",
   "language": "python",
   "name": "python3"
  },
  "language_info": {
   "codemirror_mode": {
    "name": "ipython",
    "version": 3
   },
   "file_extension": ".py",
   "mimetype": "text/x-python",
   "name": "python",
   "nbconvert_exporter": "python",
   "pygments_lexer": "ipython3",
   "version": "3.9.13"
  }
 },
 "nbformat": 4,
 "nbformat_minor": 5
}
