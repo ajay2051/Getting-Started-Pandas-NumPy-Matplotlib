{
 "cells": [
  {
   "cell_type": "markdown",
   "id": "24bd0e04",
   "metadata": {},
   "source": [
    "# Algebric Opeartions"
   ]
  },
  {
   "cell_type": "code",
   "execution_count": 5,
   "id": "46ec2498",
   "metadata": {},
   "outputs": [
    {
     "name": "stdout",
     "output_type": "stream",
     "text": [
      "Min:  1 0\n",
      "Max:  7 6\n",
      "Sqrt:  [1.         1.41421356 1.73205081 2.         2.23606798 2.44948974\n",
      " 2.64575131]\n"
     ]
    }
   ],
   "source": [
    "import numpy as np\n",
    "var = np.array([1,2,3,4,5,6,7])\n",
    "print('Min: ',np.min(var), np.argmin(var))  # argmin means position of min value\n",
    "print('Max: ',np.max(var), np.argmax(var)) # argmax means position of max value\n",
    "print('Sqrt: ', np.sqrt(var))"
   ]
  },
  {
   "cell_type": "code",
   "execution_count": 4,
   "id": "6dfa1204",
   "metadata": {},
   "outputs": [
    {
     "name": "stdout",
     "output_type": "stream",
     "text": [
      "[8 8]\n",
      "\n",
      "[6 8 5 8]\n"
     ]
    }
   ],
   "source": [
    "a = np.array([[1,8,3,4], [6,3,5,8]])\n",
    "b = np.max(a, axis=1)\n",
    "c = np.max(a, axis=0)\n",
    "print(b)\n",
    "print()\n",
    "print(c)"
   ]
  },
  {
   "cell_type": "code",
   "execution_count": 9,
   "id": "bcf33f8c",
   "metadata": {},
   "outputs": [
    {
     "name": "stdout",
     "output_type": "stream",
     "text": [
      "[ 0.          0.84147098  0.90929743  0.14112001 -0.7568025   0.89399666]\n",
      "\n",
      "[ 1.          0.54030231 -0.41614684 -0.9899925  -0.65364362 -0.44807362]\n",
      "\n",
      "[  0   1   3   6  10 100]\n"
     ]
    }
   ],
   "source": [
    "a = np.array([0,1,2,3,4,90])\n",
    "b = np.sin(a)\n",
    "c = np.cos(a)\n",
    "d = np.cumsum(a)\n",
    "print(b)\n",
    "print()\n",
    "print(c)\n",
    "print()\n",
    "print(d)"
   ]
  },
  {
   "cell_type": "code",
   "execution_count": null,
   "id": "918b2435",
   "metadata": {},
   "outputs": [],
   "source": []
  }
 ],
 "metadata": {
  "kernelspec": {
   "display_name": "Python 3 (ipykernel)",
   "language": "python",
   "name": "python3"
  },
  "language_info": {
   "codemirror_mode": {
    "name": "ipython",
    "version": 3
   },
   "file_extension": ".py",
   "mimetype": "text/x-python",
   "name": "python",
   "nbconvert_exporter": "python",
   "pygments_lexer": "ipython3",
   "version": "3.9.13"
  }
 },
 "nbformat": 4,
 "nbformat_minor": 5
}
