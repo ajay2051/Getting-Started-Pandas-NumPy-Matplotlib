{
 "cells": [
  {
   "cell_type": "markdown",
   "id": "0012749a",
   "metadata": {},
   "source": [
    "# Iteration"
   ]
  },
  {
   "cell_type": "code",
   "execution_count": 1,
   "id": "d7bea6cc",
   "metadata": {},
   "outputs": [
    {
     "name": "stdout",
     "output_type": "stream",
     "text": [
      "[5 4 7 6 3 2 9]\n",
      "5\n",
      "4\n",
      "7\n",
      "6\n",
      "3\n",
      "2\n",
      "9\n"
     ]
    }
   ],
   "source": [
    "import numpy as np\n",
    "a = np.array([5,4,7,6,3,2,9])\n",
    "print(a)\n",
    "for i in a:\n",
    "    print(i)"
   ]
  },
  {
   "cell_type": "code",
   "execution_count": 3,
   "id": "8f2fc577",
   "metadata": {},
   "outputs": [
    {
     "name": "stdout",
     "output_type": "stream",
     "text": [
      "[[1 2 3 4]\n",
      " [5 7 6 3]]\n",
      "\n",
      "[1 2 3 4]\n",
      "[5 7 6 3]\n",
      "1\n",
      "2\n",
      "3\n",
      "4\n",
      "5\n",
      "7\n",
      "6\n",
      "3\n"
     ]
    }
   ],
   "source": [
    "a = np.array([[1,2,3,4],[5,7,6,3]])\n",
    "print(a)\n",
    "print()\n",
    "for i  in a:\n",
    "    print(i)\n",
    "    \n",
    "for i in a:\n",
    "    for b in i:\n",
    "        print(b)"
   ]
  },
  {
   "cell_type": "code",
   "execution_count": 4,
   "id": "657ef5dd",
   "metadata": {},
   "outputs": [
    {
     "name": "stdout",
     "output_type": "stream",
     "text": [
      "1\n",
      "2\n",
      "3\n",
      "6\n",
      "9\n",
      "8\n",
      "5\n",
      "6\n",
      "1\n",
      "7\n",
      "9\n",
      "3\n",
      "6\n",
      "3\n",
      "1\n",
      "7\n",
      "8\n",
      "9\n"
     ]
    }
   ],
   "source": [
    "var = np.array([[[1,2,3,6,9,8],[5,6,1,7,9,3],[6,3,1,7,8,9]]])\n",
    "for i in var:\n",
    "    for j in i:\n",
    "        for k in j:\n",
    "            print(k)"
   ]
  },
  {
   "cell_type": "code",
   "execution_count": 6,
   "id": "bd69e33f",
   "metadata": {
    "scrolled": false
   },
   "outputs": [
    {
     "name": "stdout",
     "output_type": "stream",
     "text": [
      "[[[1 2 3 6 9 8]\n",
      "  [5 6 1 7 9 3]\n",
      "  [6 3 1 7 8 9]]]\n",
      "\n",
      "b'1'\n",
      "b'2'\n",
      "b'3'\n",
      "b'6'\n",
      "b'9'\n",
      "b'8'\n",
      "b'5'\n",
      "b'6'\n",
      "b'1'\n",
      "b'7'\n",
      "b'9'\n",
      "b'3'\n",
      "b'6'\n",
      "b'3'\n",
      "b'1'\n",
      "b'7'\n",
      "b'8'\n",
      "b'9'\n"
     ]
    }
   ],
   "source": [
    "var = np.array([[[1,2,3,6,9,8],[5,6,1,7,9,3],[6,3,1,7,8,9]]])\n",
    "print(var)\n",
    "print()\n",
    "for i in np.nditer(var, flags=['buffered'], op_dtypes=['S']):\n",
    "    print(i)"
   ]
  },
  {
   "cell_type": "code",
   "execution_count": 7,
   "id": "f5af0a8f",
   "metadata": {},
   "outputs": [
    {
     "name": "stdout",
     "output_type": "stream",
     "text": [
      "[[[1 2 3 6 9 8]\n",
      "  [5 6 1 7 9 3]\n",
      "  [6 3 1 7 8 9]]]\n",
      "\n",
      "(0, 0, 0) 1\n",
      "(0, 0, 1) 2\n",
      "(0, 0, 2) 3\n",
      "(0, 0, 3) 6\n",
      "(0, 0, 4) 9\n",
      "(0, 0, 5) 8\n",
      "(0, 1, 0) 5\n",
      "(0, 1, 1) 6\n",
      "(0, 1, 2) 1\n",
      "(0, 1, 3) 7\n",
      "(0, 1, 4) 9\n",
      "(0, 1, 5) 3\n",
      "(0, 2, 0) 6\n",
      "(0, 2, 1) 3\n",
      "(0, 2, 2) 1\n",
      "(0, 2, 3) 7\n",
      "(0, 2, 4) 8\n",
      "(0, 2, 5) 9\n"
     ]
    }
   ],
   "source": [
    "var = np.array([[[1,2,3,6,9,8],[5,6,1,7,9,3],[6,3,1,7,8,9]]])\n",
    "print(var)\n",
    "print()\n",
    "for i,d in np.ndenumerate(var):\n",
    "    print(i,d)"
   ]
  },
  {
   "cell_type": "code",
   "execution_count": null,
   "id": "f834f6d8",
   "metadata": {},
   "outputs": [],
   "source": []
  }
 ],
 "metadata": {
  "kernelspec": {
   "display_name": "Python 3 (ipykernel)",
   "language": "python",
   "name": "python3"
  },
  "language_info": {
   "codemirror_mode": {
    "name": "ipython",
    "version": 3
   },
   "file_extension": ".py",
   "mimetype": "text/x-python",
   "name": "python",
   "nbconvert_exporter": "python",
   "pygments_lexer": "ipython3",
   "version": "3.9.13"
  }
 },
 "nbformat": 4,
 "nbformat_minor": 5
}
