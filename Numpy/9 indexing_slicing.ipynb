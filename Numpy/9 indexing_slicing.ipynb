{
 "cells": [
  {
   "cell_type": "markdown",
   "id": "8f7af8a6",
   "metadata": {},
   "source": [
    "# Indexing"
   ]
  },
  {
   "cell_type": "code",
   "execution_count": 1,
   "id": "cdd9847a",
   "metadata": {},
   "outputs": [
    {
     "name": "stdout",
     "output_type": "stream",
     "text": [
      "2\n"
     ]
    }
   ],
   "source": [
    "import numpy as np\n",
    "a = np.array([1,2,3,4])\n",
    "print(a[1])"
   ]
  },
  {
   "cell_type": "code",
   "execution_count": 2,
   "id": "64604927",
   "metadata": {},
   "outputs": [
    {
     "name": "stdout",
     "output_type": "stream",
     "text": [
      "[[1 2 3 4]\n",
      " [5 7 8 9]]\n",
      "\n",
      "2\n",
      "\n",
      "9\n"
     ]
    }
   ],
   "source": [
    "a = np.array([\n",
    "            [1,2,3,4],\n",
    "              [5,7,8,9]\n",
    "])\n",
    "\n",
    "print(a)\n",
    "print()\n",
    "print(a.ndim)\n",
    "print()\n",
    "print(a[1,3])"
   ]
  },
  {
   "cell_type": "code",
   "execution_count": 3,
   "id": "67da0dce",
   "metadata": {},
   "outputs": [
    {
     "name": "stdout",
     "output_type": "stream",
     "text": [
      "[[[1 2]\n",
      "  [5 6]]]\n",
      "\n",
      "3\n",
      "\n",
      "6\n"
     ]
    }
   ],
   "source": [
    "a = np.array([[[1,2],[5,6]]])\n",
    "print(a)\n",
    "print()\n",
    "print(a.ndim)\n",
    "print()\n",
    "print(a[0,1,1])"
   ]
  },
  {
   "cell_type": "code",
   "execution_count": 6,
   "id": "a4c01fac",
   "metadata": {},
   "outputs": [
    {
     "name": "stdout",
     "output_type": "stream",
     "text": [
      "[[[1 2 3]\n",
      "  [4 5 6]\n",
      "  [7 8 9]]]\n",
      "3\n",
      "\n",
      "9\n"
     ]
    }
   ],
   "source": [
    "a = np.array([[\n",
    "    [1,2,3],\n",
    "    [4,5,6],\n",
    "    [7,8,9]]]\n",
    ")\n",
    "print(a)\n",
    "print(a.ndim)\n",
    "print()\n",
    "print(a[0,2,2])"
   ]
  },
  {
   "cell_type": "markdown",
   "id": "b2616476",
   "metadata": {},
   "source": [
    "# Slicing"
   ]
  },
  {
   "cell_type": "code",
   "execution_count": 4,
   "id": "30a72474",
   "metadata": {},
   "outputs": [
    {
     "name": "stdout",
     "output_type": "stream",
     "text": [
      "[7 3 2 1]\n",
      "[7 3 2 1 5 9 8 7 5 6]\n",
      "[5 7 3 2 1]\n",
      "[5 3 1 9 7 6]\n",
      "[7 2 5 8]\n"
     ]
    }
   ],
   "source": [
    "a = np.array([5,7,3,2,1,5,9,8,7,5,6,])\n",
    "print(a[1:5])\n",
    "print(a[1:])\n",
    "print(a[:5])\n",
    "print(a[::2])\n",
    "print(a[1:8:2])"
   ]
  },
  {
   "cell_type": "code",
   "execution_count": 5,
   "id": "c9a178f7",
   "metadata": {},
   "outputs": [
    {
     "name": "stdout",
     "output_type": "stream",
     "text": [
      "[[1 2 3 4 5 6]\n",
      " [5 4 7 3 6 9]\n",
      " [5 1 7 3 6 8]]\n",
      "\n",
      "[4 7 3 6 9]\n"
     ]
    }
   ],
   "source": [
    "a = np.array([[1,2,3,4,5,6],[5,4,7,3,6,9],[5,1,7,3,6,8]])\n",
    "print(a)\n",
    "print()\n",
    "print(a[1,1:])"
   ]
  },
  {
   "cell_type": "code",
   "execution_count": null,
   "id": "571c1d7e",
   "metadata": {},
   "outputs": [],
   "source": []
  }
 ],
 "metadata": {
  "kernelspec": {
   "display_name": "Python 3 (ipykernel)",
   "language": "python",
   "name": "python3"
  },
  "language_info": {
   "codemirror_mode": {
    "name": "ipython",
    "version": 3
   },
   "file_extension": ".py",
   "mimetype": "text/x-python",
   "name": "python",
   "nbconvert_exporter": "python",
   "pygments_lexer": "ipython3",
   "version": "3.9.13"
  }
 },
 "nbformat": 4,
 "nbformat_minor": 5
}
